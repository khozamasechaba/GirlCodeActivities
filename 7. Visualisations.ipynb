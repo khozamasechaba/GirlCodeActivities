{
 "cells": [
  {
   "cell_type": "code",
   "execution_count": null,
   "metadata": {},
   "outputs": [],
   "source": [
    "import numpy as np\n",
    "import pandas as pd \n",
    "import matplotlib.pyplot as plt\n",
    "\n",
    "%matplotlib inline"
   ]
  },
  {
   "cell_type": "code",
   "execution_count": null,
   "metadata": {},
   "outputs": [],
   "source": [
    "#Global API: matlab style interface\n",
    "#It is global because we import the whole module and we invoke functions at module level.\n",
    "#No OO way of knowing which plot belongs to which function.\n",
    "#Based on order, you will then be able to make adjustments on plot.\n"
   ]
  },
  {
   "cell_type": "code",
   "execution_count": null,
   "metadata": {},
   "outputs": [],
   "source": [
    "x = np.arange(-10,11)\n"
   ]
  },
  {
   "cell_type": "code",
   "execution_count": null,
   "metadata": {},
   "outputs": [],
   "source": [
    "plt.figure(figsize =(12,6))\n",
    "plt.title('A Global Plot')\n",
    "plt.plot(x, x**2)\n",
    "plt.plot(x, -1*(x**2))"
   ]
  },
  {
   "cell_type": "code",
   "execution_count": null,
   "metadata": {},
   "outputs": [],
   "source": [
    "plt.figure(figsize=(12,6))\n",
    "plt.title('A Global Plot with Subplots')\n",
    "\n",
    "plt.subplot(1,2,1) #rows, cols, panel \n",
    "plt.plot(x,x**2)\n",
    "plt.plot([0,0,0],[-10,0,100])\n",
    "plt.legend(['X^2', 'Vertical line'])\n",
    "plt.xlabel('X')\n",
    "plt.ylabel('X Squared')\n",
    "\n",
    "plt.subplot(1,2,2)\n",
    "plt.plot(x, -1 * (x**2))\n",
    "plt.plot([-10,0,10], [-50,-50,-50])\n",
    "plt.legend(['-X^2', 'Horizontal Line'])\n",
    "plt.xlabel('X')\n",
    "plt.ylabel('X Squared')"
   ]
  },
  {
   "cell_type": "code",
   "execution_count": null,
   "metadata": {},
   "outputs": [],
   "source": [
    "#The better approach is object oriented\n",
    "#You create figure and axes. With multipple, yuo can have one figure and multiople axes.\n",
    "\n",
    "fig, axes = plt.subplots(figsize=(12,6))"
   ]
  },
  {
   "cell_type": "code",
   "execution_count": null,
   "metadata": {},
   "outputs": [],
   "source": [
    "axes.plot(\n",
    "    x,(x**2), color = 'red', linewidth = 3,\n",
    "    marker = 'o', markersize = 8, label= 'X^2'\n",
    ")\n",
    "\n",
    "axes.plot(\n",
    "    x, -1*(x**2), 'b--', label = '-X^2'\n",
    ")\n",
    "\n",
    "axes.set_xlabel('X')\n",
    "axes.set_ylabel('X Squared')\n",
    "\n",
    "axes.set_title('OO Plot 1')\n",
    "\n",
    "axes.legend()\n",
    "\n",
    "fig\n"
   ]
  },
  {
   "cell_type": "code",
   "execution_count": null,
   "metadata": {},
   "outputs": [],
   "source": [
    "#ALso Matplotlib has various types: line plot, scatter plot, histogram, kernel density estimation, bar and box plots\n",
    "#Plot can be compined"
   ]
  },
  {
   "cell_type": "code",
   "execution_count": null,
   "metadata": {},
   "outputs": [],
   "source": [
    "#Line Plot\n",
    "fig, axes = plt.subplots(figsize = (12,6))\n",
    "\n",
    "axes.plot(x, x+0 , linestyle = 'solid')\n",
    "axes.plot(x, x+1 , linestyle = 'dashed')\n",
    "axes.plot(x, x+2 , linestyle = 'dashdot')\n",
    "axes.plot(x, x+3 , linestyle = 'dotted')\n",
    "\n",
    "axes.set_title('Line Plot 1')"
   ]
  },
  {
   "cell_type": "code",
   "execution_count": null,
   "metadata": {},
   "outputs": [],
   "source": [
    "fig, axes = plt.subplots(figsize = (12,6))\n",
    "\n",
    "axes.plot(x, x+0 , '-|g', label = 'solid green')\n",
    "axes.plot(x, x+1 , '--c', label = 'dashed cyan')\n",
    "axes.plot(x, x+2 , '-.b', label = 'dashdot blue')\n",
    "axes.plot(x, x+3 , ':r', label = 'dotted red')\n",
    "\n",
    "axes.set_title('Line Plot ')"
   ]
  },
  {
   "cell_type": "code",
   "execution_count": null,
   "metadata": {},
   "outputs": [],
   "source": [
    "print('Markers: {}'.format([m for m in plt.Line2D.markers]))\n",
    "\n"
   ]
  },
  {
   "cell_type": "code",
   "execution_count": null,
   "metadata": {},
   "outputs": [],
   "source": [
    "linestyles = ['_', '-', '--', ':']\n",
    "\n",
    "print('Line styles: {}'.format(linestyles))\n"
   ]
  },
  {
   "cell_type": "code",
   "execution_count": null,
   "metadata": {},
   "outputs": [],
   "source": [
    "#subplot-> tuple with figure and axes\n",
    "plot_objects = plt.subplots()\n",
    "fig, ax = plot_objects\n",
    "ax.plot([1,2,3], [1,2,3])\n",
    "plot_objects"
   ]
  },
  {
   "cell_type": "code",
   "execution_count": null,
   "metadata": {},
   "outputs": [],
   "source": [
    "#We can define how many elements we want inside figure\n",
    "plot_objects = plt.subplots(nrows=2,ncols=2,figsize=(14,6))\n",
    "fig, ((ax1,ax2), (ax3, ax4)) = plot_objects\n",
    "plot_objects"
   ]
  },
  {
   "cell_type": "code",
   "execution_count": null,
   "metadata": {},
   "outputs": [],
   "source": [
    "ax4.plot(np.random.randn(50), c = 'red')\n",
    "ax3.plot(np.random.randn(50), c = 'cyan', linestyle = '--')\n",
    "ax1.plot(np.random.randn(50), c = 'blue', linestyle = ':')\n",
    "ax2.plot(np.random.randn(50), c = 'green', marker = 'o', linewidth=3.0)\n",
    "fig"
   ]
  },
  {
   "cell_type": "code",
   "execution_count": null,
   "metadata": {},
   "outputs": [],
   "source": [
    "#Another way to make subplots using gridlike method\n",
    "plt.figure(figsize = (14,6))\n",
    "ax1 = plt.subplot2grid((3,3),(0,0), colspan = 3)\n",
    "ax2 = plt.subplot2grid((3,3),(1,0), colspan = 2)\n",
    "ax3 = plt.subplot2grid((3,3),(1,2), rowspan = 2)\n",
    "ax4 = plt.subplot2grid((3,3),(2,0) )\n",
    "ax5 = plt.subplot2grid((3,3),(2,1))"
   ]
  },
  {
   "cell_type": "code",
   "execution_count": null,
   "metadata": {},
   "outputs": [],
   "source": [
    "#Scatter Plot\n",
    "N = 50\n",
    "x = np.random.randn(N)\n",
    "y = np.random.randn(N)\n",
    "colors = np.random.randn(50)\n",
    "area = np.pi*(20 * np.random.randn(N)) *2\n"
   ]
  },
  {
   "cell_type": "code",
   "execution_count": null,
   "metadata": {},
   "outputs": [],
   "source": [
    "plt.figure(figsize=(14,6))\n",
    "plt.scatter(x,y,s=area,c=colors,alpha=0.5,cmap='Spectral')\n",
    "plt.colorbar()\n",
    "plt.show()"
   ]
  },
  {
   "cell_type": "code",
   "execution_count": null,
   "metadata": {},
   "outputs": [],
   "source": [
    "fig = plt.figure(figsize=(14,6))\n",
    "ax1 = fig.add_subplot(1,2,1)\n",
    "plt.scatter( x, y, s = area, c = colors, alpha = 0.5, cmap = 'Pastel1')\n",
    "plt.colorbar()\n",
    "\n",
    "ax2 = fig.add_subplot(1,2,2)\n",
    "plt.scatter(x,y, s = area, c = colors, alpha = 0.5, cmap= 'Pastel2')\n",
    "plt.colorbar()\n",
    "\n",
    "plt.show()"
   ]
  },
  {
   "cell_type": "code",
   "execution_count": null,
   "metadata": {},
   "outputs": [],
   "source": [
    "#Histograms\n",
    "values = np.random.randn(1000)"
   ]
  },
  {
   "cell_type": "code",
   "execution_count": null,
   "metadata": {},
   "outputs": [],
   "source": [
    "plt.subplots(figsize=(12,6))\n",
    "plt.hist(values, bins =100,\n",
    "            alpha = 0.8, histtype = 'bar',\n",
    "            color ='steelblue', edgecolor='red')\n",
    "plt.xlim(xmin = -5, xmax = 5)\n",
    "plt.show()"
   ]
  },
  {
   "cell_type": "code",
   "execution_count": 3,
   "metadata": {},
   "outputs": [],
   "source": [
    "#Bar plots, Box blots for outlier detection not done"
   ]
  },
  {
   "cell_type": "code",
   "execution_count": null,
   "metadata": {},
   "outputs": [],
   "source": []
  }
 ],
 "metadata": {
  "kernelspec": {
   "display_name": "Python 3 (ipykernel)",
   "language": "python",
   "name": "python3"
  },
  "language_info": {
   "codemirror_mode": {
    "name": "ipython",
    "version": 3
   },
   "file_extension": ".py",
   "mimetype": "text/x-python",
   "name": "python",
   "nbconvert_exporter": "python",
   "pygments_lexer": "ipython3",
   "version": "3.10.6"
  },
  "orig_nbformat": 4
 },
 "nbformat": 4,
 "nbformat_minor": 2
}
